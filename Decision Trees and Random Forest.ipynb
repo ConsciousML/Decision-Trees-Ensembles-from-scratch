{
 "cells": [
  {
   "cell_type": "markdown",
   "metadata": {},
   "source": [
    "# Decision Tree on Heart Disease Dataset\n",
    "During this experiment, the decision tree and random forest algorithms will be implemented from scratch using PyTorch.<br>\n",
    "The models will be trained using the Heart Disease Dataset:\n",
    "https://archive.ics.uci.edu/ml/datasets/heart+Disease\n",
    "\n",
    "The 14 features were selected among 76 attributes: \n",
    "1. age: age in years\n",
    "2. sex:\n",
    "    - 1: male\n",
    "    - 0: female\n",
    "3. cp: chest pain type\n",
    "    - 0: asymptomatic\n",
    "    - 1: atypical angina\n",
    "    - 2: non-anginal pain\n",
    "    - 3: typical angina\n",
    "4. trestbps: resting blood pressure\n",
    "5. chol: serum cholestoral in mg/dl\n",
    "6. fbs: fasting blood sugar > 120 mg/dl\n",
    "7. restecg: resting electrocardiographic results\n",
    "    - 0: showing probable or definite left ventricular hypertrophy by Estes' criteria\n",
    "    - 1: normal\n",
    "    - 2: having ST-T wave abnormality (T wave inversions and/or ST elevation or depression of > 0.05 mV)\n",
    "8. thalach: maximum heart rate achieved\n",
    "9. exang: exercise induced angina \n",
    "10. oldpeak: ST depression induced by exercise relative to rest\n",
    "11. slope: the slope of the peak exercise ST segment\n",
    "    - 1: upsloping\n",
    "    - 2: flat\n",
    "    - 3: downsloping\n",
    "12. ca: number of major vessels (0-3) colored by flourosopy\n",
    "13. thal:\n",
    "    - 3 : fixed defect\n",
    "    - 6 : normal\n",
    "    - 7 : reversable defect\n",
    "14. disease:\n",
    "    - 0: artery diameter narrowing < 50%\n",
    "    - 1-3: artery diameter narrowing > 50%, close to 3 is very severe"
   ]
  },
  {
   "cell_type": "code",
   "execution_count": 99,
   "metadata": {},
   "outputs": [],
   "source": [
    "import os\n",
    "import torch\n",
    "import pandas as pd\n",
    "import numpy as np\n",
    "import seaborn as sns\n",
    "import matplotlib.pyplot as plt\n",
    "from pprint import pprint\n",
    "from sklearn.model_selection import train_test_split\n",
    "from sklearn.base import BaseEstimator\n",
    "from sklearn.model_selection import cross_val_score"
   ]
  },
  {
   "cell_type": "markdown",
   "metadata": {},
   "source": [
    "### Read csv using Pandas"
   ]
  },
  {
   "cell_type": "code",
   "execution_count": 100,
   "metadata": {},
   "outputs": [],
   "source": [
    "hdisease = pd.read_csv(os.path.join('data', 'processed.cleveland.data'))"
   ]
  },
  {
   "cell_type": "code",
   "execution_count": 101,
   "metadata": {},
   "outputs": [],
   "source": [
    "# The data does not include the columns names, we did a little trick to add them\n",
    "columns = {\n",
    "    '63.0' : 'age',\n",
    "    '1.0' : 'sex',\n",
    "    '1.0.1' : 'cp',\n",
    "    '145.0' : 'trestbps',\n",
    "    '233.0' : 'chol',\n",
    "    '1.0.2' : 'fbs',\n",
    "    '2.0' : 'restecg',\n",
    "    '150.0' : 'thalach',\n",
    "    '0.0' : 'exang',\n",
    "    '2.3' : 'oldpeak',\n",
    "    '3.0' : 'slope',\n",
    "    '0.0.1' : 'ca',\n",
    "    '6.0' : 'thal',\n",
    "    '0' : 'disease'\n",
    "}\n",
    "hdisease.rename(columns=columns, inplace=True)"
   ]
  },
  {
   "cell_type": "markdown",
   "metadata": {},
   "source": [
    "### Replacing missing values"
   ]
  },
  {
   "cell_type": "code",
   "execution_count": 102,
   "metadata": {},
   "outputs": [],
   "source": [
    "# Remove the severity of the disease, 0: healthy, 1: sick\n",
    "hdisease.loc[hdisease['disease'] > 1, 'disease'] = 1\n",
    "# Setting missing values to unknown value\n",
    "hdisease.loc[hdisease['ca'] == '?', 'ca'] = 4.0\n",
    "hdisease.loc[hdisease['thal'] == '?', 'thal'] = 0.0\n",
    "# Setting all values to float\n",
    "hdisease = hdisease.astype(float)"
   ]
  },
  {
   "cell_type": "code",
   "execution_count": 103,
   "metadata": {},
   "outputs": [
    {
     "data": {
      "text/html": [
       "<div>\n",
       "<style scoped>\n",
       "    .dataframe tbody tr th:only-of-type {\n",
       "        vertical-align: middle;\n",
       "    }\n",
       "\n",
       "    .dataframe tbody tr th {\n",
       "        vertical-align: top;\n",
       "    }\n",
       "\n",
       "    .dataframe thead th {\n",
       "        text-align: right;\n",
       "    }\n",
       "</style>\n",
       "<table border=\"1\" class=\"dataframe\">\n",
       "  <thead>\n",
       "    <tr style=\"text-align: right;\">\n",
       "      <th></th>\n",
       "      <th>age</th>\n",
       "      <th>sex</th>\n",
       "      <th>cp</th>\n",
       "      <th>trestbps</th>\n",
       "      <th>chol</th>\n",
       "      <th>fbs</th>\n",
       "      <th>restecg</th>\n",
       "      <th>thalach</th>\n",
       "      <th>exang</th>\n",
       "      <th>oldpeak</th>\n",
       "      <th>slope</th>\n",
       "      <th>ca</th>\n",
       "      <th>thal</th>\n",
       "      <th>disease</th>\n",
       "    </tr>\n",
       "  </thead>\n",
       "  <tbody>\n",
       "    <tr>\n",
       "      <th>0</th>\n",
       "      <td>67.0</td>\n",
       "      <td>1.0</td>\n",
       "      <td>4.0</td>\n",
       "      <td>160.0</td>\n",
       "      <td>286.0</td>\n",
       "      <td>0.0</td>\n",
       "      <td>2.0</td>\n",
       "      <td>108.0</td>\n",
       "      <td>1.0</td>\n",
       "      <td>1.5</td>\n",
       "      <td>2.0</td>\n",
       "      <td>3.0</td>\n",
       "      <td>3.0</td>\n",
       "      <td>1.0</td>\n",
       "    </tr>\n",
       "    <tr>\n",
       "      <th>1</th>\n",
       "      <td>67.0</td>\n",
       "      <td>1.0</td>\n",
       "      <td>4.0</td>\n",
       "      <td>120.0</td>\n",
       "      <td>229.0</td>\n",
       "      <td>0.0</td>\n",
       "      <td>2.0</td>\n",
       "      <td>129.0</td>\n",
       "      <td>1.0</td>\n",
       "      <td>2.6</td>\n",
       "      <td>2.0</td>\n",
       "      <td>2.0</td>\n",
       "      <td>7.0</td>\n",
       "      <td>1.0</td>\n",
       "    </tr>\n",
       "    <tr>\n",
       "      <th>2</th>\n",
       "      <td>37.0</td>\n",
       "      <td>1.0</td>\n",
       "      <td>3.0</td>\n",
       "      <td>130.0</td>\n",
       "      <td>250.0</td>\n",
       "      <td>0.0</td>\n",
       "      <td>0.0</td>\n",
       "      <td>187.0</td>\n",
       "      <td>0.0</td>\n",
       "      <td>3.5</td>\n",
       "      <td>3.0</td>\n",
       "      <td>0.0</td>\n",
       "      <td>3.0</td>\n",
       "      <td>0.0</td>\n",
       "    </tr>\n",
       "    <tr>\n",
       "      <th>3</th>\n",
       "      <td>41.0</td>\n",
       "      <td>0.0</td>\n",
       "      <td>2.0</td>\n",
       "      <td>130.0</td>\n",
       "      <td>204.0</td>\n",
       "      <td>0.0</td>\n",
       "      <td>2.0</td>\n",
       "      <td>172.0</td>\n",
       "      <td>0.0</td>\n",
       "      <td>1.4</td>\n",
       "      <td>1.0</td>\n",
       "      <td>0.0</td>\n",
       "      <td>3.0</td>\n",
       "      <td>0.0</td>\n",
       "    </tr>\n",
       "    <tr>\n",
       "      <th>4</th>\n",
       "      <td>56.0</td>\n",
       "      <td>1.0</td>\n",
       "      <td>2.0</td>\n",
       "      <td>120.0</td>\n",
       "      <td>236.0</td>\n",
       "      <td>0.0</td>\n",
       "      <td>0.0</td>\n",
       "      <td>178.0</td>\n",
       "      <td>0.0</td>\n",
       "      <td>0.8</td>\n",
       "      <td>1.0</td>\n",
       "      <td>0.0</td>\n",
       "      <td>3.0</td>\n",
       "      <td>0.0</td>\n",
       "    </tr>\n",
       "  </tbody>\n",
       "</table>\n",
       "</div>"
      ],
      "text/plain": [
       "    age  sex   cp  trestbps   chol  fbs  restecg  thalach  exang  oldpeak  \\\n",
       "0  67.0  1.0  4.0     160.0  286.0  0.0      2.0    108.0    1.0      1.5   \n",
       "1  67.0  1.0  4.0     120.0  229.0  0.0      2.0    129.0    1.0      2.6   \n",
       "2  37.0  1.0  3.0     130.0  250.0  0.0      0.0    187.0    0.0      3.5   \n",
       "3  41.0  0.0  2.0     130.0  204.0  0.0      2.0    172.0    0.0      1.4   \n",
       "4  56.0  1.0  2.0     120.0  236.0  0.0      0.0    178.0    0.0      0.8   \n",
       "\n",
       "   slope   ca  thal  disease  \n",
       "0    2.0  3.0   3.0      1.0  \n",
       "1    2.0  2.0   7.0      1.0  \n",
       "2    3.0  0.0   3.0      0.0  \n",
       "3    1.0  0.0   3.0      0.0  \n",
       "4    1.0  0.0   3.0      0.0  "
      ]
     },
     "execution_count": 103,
     "metadata": {},
     "output_type": "execute_result"
    }
   ],
   "source": [
    "hdisease.head()"
   ]
  },
  {
   "cell_type": "markdown",
   "metadata": {},
   "source": [
    "### Correlation Heatmap"
   ]
  },
  {
   "cell_type": "code",
   "execution_count": 104,
   "metadata": {},
   "outputs": [
    {
     "data": {
      "text/plain": [
       "<matplotlib.axes._subplots.AxesSubplot at 0x1e610f4f748>"
      ]
     },
     "execution_count": 104,
     "metadata": {},
     "output_type": "execute_result"
    },
    {
     "data": {
      "image/png": "[encoded data removed]",
      "text/plain": [
       "<Figure size 1440x576 with 2 Axes>"
      ]
     },
     "metadata": {
      "needs_background": "light"
     },
     "output_type": "display_data"
    }
   ],
   "source": [
    "plt.figure(figsize=(20, 8))\n",
    "sns.heatmap(hdisease.corr(), annot=True, square=True, fmt='0.2f')"
   ]
  },
  {
   "cell_type": "code",
   "execution_count": 105,
   "metadata": {},
   "outputs": [
    {
     "data": {
      "text/plain": [
       "<matplotlib.axes._subplots.AxesSubplot at 0x1e6115f60c8>"
      ]
     },
     "execution_count": 105,
     "metadata": {},
     "output_type": "execute_result"
    },
    {
     "data": {
      "image/png": "[encoded data removed]",
      "text/plain": [
       "<Figure size 1296x288 with 4 Axes>"
      ]
     },
     "metadata": {
      "needs_background": "light"
     },
     "output_type": "display_data"
    }
   ],
   "source": [
    "fig, (ax1, ax2, ax3, ax4) = plt.subplots(1, 4, figsize=(18, 4))\n",
    "sns.barplot(x='disease', y='exang', data=hdisease, ax=ax1)\n",
    "sns.barplot(x='disease', y='cp', data=hdisease, ax=ax2)\n",
    "sns.barplot(x='disease', y='thalach', data=hdisease, ax=ax3)\n",
    "sns.barplot(x='disease', y='chol', data=hdisease, ax=ax4)"
   ]
  },
  {
   "cell_type": "markdown",
   "metadata": {},
   "source": [
    "Most features are highly correlated to the disease column.\n",
    "By interpreting the barplots of the healthy and sick patient groups, it is likely that a patient with heart disease will have the following caracteristics:\n",
    "- cp: more chest pain\n",
    "- thalach: a lower maximum heart rate. Surprisingly, high beats per minute is a signal of heart health\n",
    "- exang: increase pain when exercising\n",
    "- cholesterol levels are similar through sick and healthy patient: no direct link with heart disease"
   ]
  },
  {
   "cell_type": "markdown",
   "metadata": {},
   "source": [
    "### Decision Trees\n",
    "Decision trees are defined by recursively partitioning the input space into regions. Each region is partitioned into sub-regions for each child node.\n",
    "Each leaf node maps the input to a class or regression value depending on the task. Space is sub-divided into non overlapping regions based on some criteria at each node. Once created, a tree can be navigated with a new sample of data following each branch with the splits until a final prediction is made.\n",
    "To understand how to grow a tree, we must introduce the gini index first.\n",
    "Assuming that $D$ is the data in a leaf and $N$ the number of samples in $D$, we estimate the class-conditional probability as follow:\n",
    "$$\n",
    "    \\hat{\\pi}_c = \\frac{1}{N} \\sum_{i \\in D}\\mathbb{I}(y_i = c)\n",
    "$$\n",
    "where $c$ are the classes of the target. The Gini index of a given leaf is:\n",
    "$$\n",
    "    G_{l} = \\sum_{c=1}^{C}\\hat{\\pi}_c(1 -\\hat{\\pi}_c) = 1 - \\sum_{c=1}^{C}\\hat{\\pi}^2_c\n",
    "$$\n",
    "To have the Gini index of a split, we compute the Gini index on each of its leaves and sum the indexes weighted by the number of samples in each leaf over the total number of samples to split:\n",
    "$$\n",
    "    G_{Node} = \\sum_{i=1}^{K} \\frac{k_{li}}{U}G_{li}\n",
    "$$\n",
    "where $K$ is the number of leaves of the node, $k_{li}$ is the number of samples in the leaf $i^{th}$ leaf and $U$ is the number of sample to split.\n",
    "            \n",
    "In the case of categorical inputs, the most common approach is to consider splits of the form $x_{ij} = c_k$ and $x_{ij} \\neq c_k$, for each possible class label $c_k$.\n",
    "The rule to perform a split on a node is as follow:\n",
    "- if the node is in the maximum depth of the tree, keep it as a leaf.\n",
    "- for each attribute, we try all the possible thresholds and compute the Gini index of each split. The threshold across all attributes that minimize the Gini index is selected\n",
    "- a node is said pure if the split generates a empty leaf. If a node is pure, it is set as a leaf.\n",
    "- if the node has a lowest score than the Gini index of the best split, we keep it as a leaf.\n",
    "- if the Gini index of a leaf is lower than the Gini index of the potential split at this leaf, we will keep it as a a leaf node."
   ]
  },
  {
   "cell_type": "code",
   "execution_count": 106,
   "metadata": {},
   "outputs": [],
   "source": [
    "# Check which data are categorical or not\n",
    "is_categorical = []\n",
    "for col in hdisease.columns:\n",
    "    # If less than 9 unique values, than the feature is categorical\n",
    "    is_categorical.append(int(len(np.unique(hdisease[col])) < 9))\n",
    "# Convert to Pytorch tensor\n",
    "is_categorical = torch.tensor(is_categorical)[:-1]"
   ]
  },
  {
   "cell_type": "code",
   "execution_count": 107,
   "metadata": {},
   "outputs": [],
   "source": [
    "# Convert data to numpy\n",
    "data = hdisease.values\n",
    "# Get unique values of the target\n",
    "utarget = torch.from_numpy(np.unique(data[:, -1]))"
   ]
  },
  {
   "cell_type": "markdown",
   "metadata": {},
   "source": [
    "### Convert data to Pytorch"
   ]
  },
  {
   "cell_type": "code",
   "execution_count": 108,
   "metadata": {},
   "outputs": [],
   "source": [
    "X = torch.from_numpy(data[:, :-1])\n",
    "y = torch.from_numpy(data[:, -1]).int()"
   ]
  },
  {
   "cell_type": "markdown",
   "metadata": {},
   "source": [
    "### Gini index function"
   ]
  },
  {
   "cell_type": "code",
   "execution_count": 109,
   "metadata": {},
   "outputs": [],
   "source": [
    "def gini(y):\n",
    "    pi = (y.bincount() / float(y.shape[0]))\n",
    "    return 1 - pi.pow(2).sum()"
   ]
  },
  {
   "cell_type": "markdown",
   "metadata": {},
   "source": [
    "### Node class"
   ]
  },
  {
   "cell_type": "code",
   "execution_count": 110,
   "metadata": {},
   "outputs": [],
   "source": [
    "# Base class of a node\n",
    "class Node():\n",
    "    def __init__(self, X, y, is_categorical, max_depth, columns, depth=0, nb_features=0):\n",
    "        # If training random forest \n",
    "        if nb_features != 0:\n",
    "            self.col_perm = torch.randperm(X.shape[1])[:nb_features]\n",
    "            self.X = X[:, self.col_perm]\n",
    "            self.X_full = X\n",
    "            self.columns = columns[self.col_perm]\n",
    "            self.col_full = columns\n",
    "            # List of binary values defining if each feature is categorical or not\n",
    "            self.is_categorical_list = is_categorical[self.col_perm]\n",
    "            self.is_catfull = is_categorical\n",
    "        else:\n",
    "            self.X = X\n",
    "            self.columns = columns\n",
    "            self.is_categorical_list = is_categorical\n",
    "        self.y = y\n",
    "        self.size = float(X.shape[0])\n",
    "        # Prediction if the node will turn into a leaf, or split value\n",
    "        self.cutoff = None\n",
    "        # Column to check for splitting the data \n",
    "        self.col = None\n",
    "        # Child nodes\n",
    "        self.left = None\n",
    "        self.right = None\n",
    "        # Whether or not the split value is categorical\n",
    "        self.depth = depth\n",
    "        self.nb_features = nb_features\n",
    "        # Only used if training AdaBoost\n",
    "        # If the node contains only one label, it is set as a leaf\n",
    "        if self.is_pure() or depth == max_depth or self.X.shape[0] == 1:\n",
    "            # Select the predominant categorical value and set it as the prediction\n",
    "            self.make_leaf()\n",
    "            return\n",
    "            \n",
    "        # Computing the gini index on the population before the split\n",
    "        gini_n = gini(y)\n",
    "        params = self.find_best_split()\n",
    "        \n",
    "        gini_s = params[0]\n",
    "        # If no improvement, make the node as a leaf\n",
    "        if gini_s >= gini_n:\n",
    "            self.make_leaf()\n",
    "        else:\n",
    "            self.make_split(params, max_depth)\n",
    "    \n",
    "    # Clean variables that are not usefull to predict\n",
    "    def clean_attributes(self):\n",
    "        self.X = None\n",
    "        self.y = None\n",
    "        if self.nb_features != 0:\n",
    "            self.X_full = None\n",
    "            self.col_full = None\n",
    "            self.is_catfull = None\n",
    "    \n",
    "    # Pure if there is only one label in the population\n",
    "    def is_pure(self):\n",
    "        return len(self.y.unique()) == 1\n",
    "    \n",
    "    # Return the most present label as a prediction if the node turns to a leaf\n",
    "    def get_label(self):\n",
    "        return self.y.bincount().argmax().item()\n",
    "    \n",
    "    def make_leaf(self):\n",
    "        self.cutoff = self.get_label()\n",
    "        #import random\n",
    "        #self.cutoff = random.randint(0, 100)\n",
    "        self.clean_attributes()\n",
    "    \n",
    "    # Performs the split\n",
    "    def make_split(self, params, max_depth):\n",
    "        self.col = params[1]\n",
    "        self.cutoff = params[2]\n",
    "        self.var_categorical = self.is_categorical_list[self.col].item()\n",
    "        # Recursively split by creating two instances of the Node class using the two groups\n",
    "        if self.nb_features != 0:\n",
    "            cols = self.col_full\n",
    "            categorical_list = self.is_catfull\n",
    "        else:\n",
    "            cols = self.columns\n",
    "            categorical_list = self.is_categorical_list\n",
    "        self.left = Node(X=params[3][0],\n",
    "                         y=params[3][1],\n",
    "                         is_categorical=categorical_list,\n",
    "                         max_depth=max_depth,\n",
    "                         columns=cols,\n",
    "                         depth=self.depth + 1,\n",
    "                         nb_features=self.nb_features)\n",
    "        self.right = Node(X=params[4][0],\n",
    "                          y=params[4][1],\n",
    "                          is_categorical=categorical_list,\n",
    "                          max_depth=max_depth,\n",
    "                          columns=cols,\n",
    "                          depth=self.depth + 1,\n",
    "                          nb_features=self.nb_features)\n",
    "        self.clean_attributes()\n",
    "   \n",
    "    # Compute the gini index of the future split\n",
    "    def gini_split(self, idx_g_1, idx_g_2, cutoff, feature_idx, best_params):\n",
    "        g_1 = self.y[idx_g_1].squeeze(1)\n",
    "        g_2 = self.y[idx_g_2].squeeze(1)\n",
    "        gini_g1 = gini(g_1) * (float(g_1.shape[0]) / self.size) \n",
    "        gini_g2 = gini(g_2) * (float(g_2.shape[0]) / self.size)\n",
    "        gini_split = (gini_g1 + gini_g2)\n",
    "        if gini_split < best_params[0]:\n",
    "            best_params[0] = gini_split.item()\n",
    "            best_params[1] = feature_idx\n",
    "            best_params[2] = cutoff.item()\n",
    "            # If training a base learner of a random forest\n",
    "            # pass the full data to child nodes\n",
    "            if self.nb_features != 0:\n",
    "                best_params[3] = [self.X_full[idx_g_1].squeeze(1), g_1]\n",
    "                best_params[4] = [self.X_full[idx_g_2].squeeze(1), g_2]\n",
    "            else:\n",
    "                best_params[3] = [self.X[idx_g_1].squeeze(1), g_1]\n",
    "                best_params[4] = [self.X[idx_g_2].squeeze(1), g_2]\n",
    "        return best_params\n",
    "    \n",
    "    def find_best_split(self):\n",
    "        # Create a parameter list to store the parameters of the best split\n",
    "        # It contains:\n",
    "        # 1: best gini index\n",
    "        # 2: column index of the best split\n",
    "        # 3: value of the best split\n",
    "        # 4: left group [X, y], less than equal to #3 or belongs to the class #3 if categorical\n",
    "        # 5: right group [X, y], greater than #3 or does not belong to the class #3\n",
    "        best_params = [2, -1, -1, None, None]\n",
    "        for i in range(self.X.shape[1]):\n",
    "            vals = self.X[:, i]\n",
    "            if self.is_categorical_list[i]:\n",
    "                for cutoff in vals.unique():\n",
    "                    idx_uv = (vals == cutoff).nonzero()\n",
    "                    idx_uv_not = (vals != cutoff).nonzero()\n",
    "                    best_params = self.gini_split(idx_uv, idx_uv_not, cutoff, i, best_params)\n",
    "            else:\n",
    "                for cutoff in vals.unique():\n",
    "                    idx_leq = (vals <= cutoff).nonzero()\n",
    "                    idx_ge = (vals > cutoff).nonzero()\n",
    "                    best_params = self.gini_split(idx_leq, idx_ge, cutoff, i, best_params)\n",
    "        return best_params\n",
    "    \n",
    "    # Used for printing the tree as a dict object\n",
    "    def get_dict(self):\n",
    "        node_dict = {}\n",
    "        if self.left is None and self.right is None:\n",
    "            node_dict['pred'] = self.cutoff\n",
    "        else:\n",
    "            node_dict['cutoff'] = self.cutoff\n",
    "            node_dict['feature'] = self.columns[self.col]\n",
    "            node_dict['categorical'] = self.var_categorical\n",
    "            node_dict['left'] = self.left.get_dict()\n",
    "            node_dict['right'] = self.right.get_dict()\n",
    "        return node_dict\n",
    "   \n",
    "    # Follow the tree based on the conditions\n",
    "    def predict(self, sample):\n",
    "        if self.nb_features != 0:\n",
    "            sample_in = sample[self.col_perm]\n",
    "        else:\n",
    "            sample_in = sample\n",
    "            \n",
    "        if self.left is None and self.right is None:\n",
    "            return self.cutoff\n",
    "        if self.var_categorical:\n",
    "            if sample_in[self.col] == self.cutoff:\n",
    "                return self.left.predict(sample)\n",
    "            else:\n",
    "                return self.right.predict(sample)\n",
    "        else:\n",
    "            if sample_in[self.col] <= self.cutoff:\n",
    "                return self.left.predict(sample)\n",
    "            else:\n",
    "                return self.right.predict(sample)"
   ]
  },
  {
   "cell_type": "markdown",
   "metadata": {},
   "source": [
    "### Decision Tree Class"
   ]
  },
  {
   "cell_type": "code",
   "execution_count": 111,
   "metadata": {},
   "outputs": [],
   "source": [
    "# Class that implements the sklearn methods\n",
    "# Just a wrapper for our node class\n",
    "class DecisionTreeClassifier(BaseEstimator):\n",
    "    def __init__(self, max_depth, is_categorical, columns, nb_features=0):\n",
    "        if nb_features < 0:\n",
    "            raise ValueError('negative integer passed to nb_features.')\n",
    "        self.max_depth = max_depth\n",
    "        # Wether or not each column is a categorical value\n",
    "        self.is_categorical = is_categorical\n",
    "        self.columns = columns\n",
    "        self.root = None\n",
    "        # Number of random features to select\n",
    "        # Only used when building a random forest base learner\n",
    "        # If 0 then train a decision tree using all the features availables\n",
    "        self.nb_features = nb_features\n",
    "    \n",
    "    def fit(self, X, y, **kwargs):\n",
    "        # Just some trick to fit the sklearn requirements for using cross validation\n",
    "        if self.nb_features > X.shape[1]:\n",
    "            raise ValueError('parameter np_features should be less than equal to the number of features')\n",
    "        self.root = Node(X, y, self.is_categorical, self.max_depth, self.columns, 0, self.nb_features)\n",
    "        \n",
    "    def predict(self, X):\n",
    "        if len(X.shape) == 0:\n",
    "            return 'error: can not predict on empty input.'\n",
    "        if len(X.shape) == 1:\n",
    "            return self.root.predict(X)\n",
    "        \n",
    "        pred = torch.zeros((X.shape[0],), dtype=torch.int32)\n",
    "        if self.root == None:\n",
    "            return 'error: use the fit method before using predict.'\n",
    "        for i in range(X.shape[0]):\n",
    "            sample = X[i, :]\n",
    "            pred[i] = self.root.predict(sample)\n",
    "        return pred\n",
    "    \n",
    "    #def get_params(self, deep=False):\n",
    "    #    return {'max_depth' : self.max_depth,\n",
    "    #            'is_categorical': self.is_categorical,\n",
    "    #            'columns': self.columns,\n",
    "    #            'nb_features' : self.nb_features}\n",
    "    \n",
    "    def __str__(self):\n",
    "        if self.root == None:\n",
    "            return 'error: use the fit method to print the result of the training.'\n",
    "        tree_dict = self.root.get_dict()\n",
    "        pprint(tree_dict)\n",
    "        return ''"
   ]
  },
  {
   "cell_type": "code",
   "execution_count": 112,
   "metadata": {},
   "outputs": [
    {
     "name": "stdout",
     "output_type": "stream",
     "text": [
      "{'categorical': 1,\n",
      " 'cutoff': 3.0,\n",
      " 'feature': 'thal',\n",
      " 'left': {'categorical': 1,\n",
      "          'cutoff': 0.0,\n",
      "          'feature': 'ca',\n",
      "          'left': {'categorical': 0,\n",
      "                   'cutoff': 156.0,\n",
      "                   'feature': 'trestbps',\n",
      "                   'left': {'pred': 0},\n",
      "                   'right': {'pred': 1}},\n",
      "          'right': {'categorical': 1,\n",
      "                    'cutoff': 4.0,\n",
      "                    'feature': 'cp',\n",
      "                    'left': {'pred': 1},\n",
      "                    'right': {'pred': 0}}},\n",
      " 'right': {'categorical': 1,\n",
      "           'cutoff': 4.0,\n",
      "           'feature': 'cp',\n",
      "           'left': {'categorical': 0,\n",
      "                    'cutoff': 0.5,\n",
      "                    'feature': 'oldpeak',\n",
      "                    'left': {'pred': 1},\n",
      "                    'right': {'pred': 1}},\n",
      "           'right': {'categorical': 1,\n",
      "                     'cutoff': 0.0,\n",
      "                     'feature': 'ca',\n",
      "                     'left': {'pred': 0},\n",
      "                     'right': {'pred': 1}}}}\n",
      "\n"
     ]
    }
   ],
   "source": [
    "dt = DecisionTreeClassifier(max_depth=3,\n",
    "                            is_categorical=is_categorical,\n",
    "                            columns=hdisease.columns,\n",
    "                            nb_features=13)\n",
    "dt.fit(X, y)\n",
    "print(dt)"
   ]
  },
  {
   "cell_type": "markdown",
   "metadata": {},
   "source": [
    "We just fit the whole data to the model to visualize the structure of the tree.<br>\n",
    "In the next section, we will validate the performance of the model using cross validation and have an interpretation of the tree structure."
   ]
  },
  {
   "cell_type": "markdown",
   "metadata": {},
   "source": [
    "### Cross Validation"
   ]
  },
  {
   "cell_type": "code",
   "execution_count": 113,
   "metadata": {},
   "outputs": [
    {
     "name": "stdout",
     "output_type": "stream",
     "text": [
      "Accuracy on the test set: 0.8110382513661202\n"
     ]
    }
   ],
   "source": [
    "dt = DecisionTreeClassifier(max_depth=3,\n",
    "                            is_categorical=is_categorical,\n",
    "                            columns=hdisease.columns,\n",
    "                            nb_features=13)\n",
    "# Using 5 K-folds\n",
    "test_acc = cross_val_score(dt, X, y, scoring='accuracy', cv=5).mean()\n",
    "print('Accuracy on the test set:', test_acc)"
   ]
  },
  {
   "cell_type": "markdown",
   "metadata": {},
   "source": [
    "Using cross validation and accuracy as our metric, the best model performed well for such simple classifier.\n",
    "Indeed, 81% accuracy on a 5 k-fold cross validation is acceptable given the complexity of predicting heart disease.\n",
    "Looking at the tree structure, the first split is done on the 'thal' feature which has the highest correlation with the target.\n",
    "The most discriminative features are then 'ca', 'cp' and 'oldpeak' and they all have more than 40% correlation with the target.\n",
    "The model uses the lower correlated variable such as 'chol' and 'testbps' inside the deeper nodes.\n",
    "\n",
    "The 'thal' feature contributes the most in the decision. It refers to the Thalium stress test result, consisting in injecting radioactive element into the bloodstream of the patient. The 'thal' categorical values refers to the quality of blood circulation. It makes sense that a patient with poor blood circulation is very likely to have a heart disease.\n",
    "\n",
    "The performance using a decision tree is acceptable, but let's try to do better using a Random Forest."
   ]
  },
  {
   "cell_type": "markdown",
   "metadata": {},
   "source": [
    "### Random Forest\n",
    "Random forest is a technique known as bootstrap aggregating (bagging) which consists in taking multiple different models and compute the ensemble prediction:\n",
    "$$\n",
    "    f(\\boldsymbol{x}) = \\sum_{i = 0}^{M}f_m(\\boldsymbol{x})\n",
    "$$<br>\n",
    "where $f_m$ is the $m^{th}$ model.<br>\n",
    "The random forest technique is the ensemble model making use of decision trees. This ensemble model tries to decorrelate the base\n",
    "learners by learning trees based on a randomly chosen subset of features, as well as a randomly chosen subset of data samples.\n",
    "\n",
    "In other words, to train a random forest, we create $m$ subsets of the training set where we can select multiple times the same samples. These subsets are known as boostrapped datasets. Finally, each base learner is trained in the same fashion as a decision tree except that at each node, when we perform the split, we randomly choose a fixed number of features from the data."
   ]
  },
  {
   "cell_type": "code",
   "execution_count": 114,
   "metadata": {},
   "outputs": [],
   "source": [
    "class RandomForestClassifier(BaseEstimator):\n",
    "    def __init__(self, max_depth, is_categorical, columns, nb_features, n_estimators):\n",
    "        self.max_depth = max_depth\n",
    "        self.is_categorical = is_categorical\n",
    "        self.columns = columns\n",
    "        self.nb_features = nb_features\n",
    "        self.n_estimators = n_estimators\n",
    "        self.trees = []\n",
    "        \n",
    "    def fit(self, X, y, **kwargs):\n",
    "        if self.nb_features > X.shape[1]:\n",
    "            raise ValueError('parameter np_features should be less than equal to the number of features') \n",
    "        for i in range(self.n_estimators):\n",
    "            X_bstrp, y_bstrp = self.get_boostrap_data(X, y)\n",
    "            dt = DecisionTreeClassifier(self.max_depth, self.is_categorical, self.columns, self.nb_features)\n",
    "            dt.fit(X_bstrp, y_bstrp)\n",
    "            self.trees.append(dt)\n",
    "        \n",
    "    def get_boostrap_data(self, X, y):\n",
    "        idx = torch.randint(0, X.shape[0] - 1, size=(X.shape[0],))\n",
    "        return X[idx, :], y[idx]\n",
    "   \n",
    "    def predict_sample(self, X):\n",
    "        preds = np.array([0, 0])\n",
    "        for tree in self.trees:\n",
    "            preds[tree.predict(X)] += 1\n",
    "        return preds.argmax() \n",
    "\n",
    "    def predict(self, X):\n",
    "        if len(X.shape) == 0:\n",
    "            return 'error: can not predict on empty input.'\n",
    "        if len(X.shape) == 1:\n",
    "            return self.predict_sample(X)\n",
    "        \n",
    "        pred = torch.zeros((X.shape[0],), dtype=torch.int32)\n",
    "        if len(self.trees) == 0:\n",
    "            return 'error: use the fit method before using predict.'\n",
    "        for i in range(X.shape[0]):\n",
    "            sample = X[i, :]\n",
    "            pred[i] = self.predict_sample(sample)\n",
    "        return pred\n",
    "    #def predict(self, X):\n",
    "    #    return torch.ones((X.shape[0],))"
   ]
  },
  {
   "cell_type": "code",
   "execution_count": 115,
   "metadata": {},
   "outputs": [
    {
     "ename": "KeyboardInterrupt",
     "evalue": "",
     "output_type": "error",
     "traceback": [
      "\u001b[1;31m---------------------------------------------------------------------------\u001b[0m",
      "\u001b[1;31mKeyboardInterrupt\u001b[0m                         Traceback (most recent call last)",
      "\u001b[1;32m<ipython-input-115-7834e6fcf32b>\u001b[0m in \u001b[0;36m<module>\u001b[1;34m\u001b[0m\n\u001b[0;32m     10\u001b[0m                                 n_estimators=100)\n\u001b[0;32m     11\u001b[0m     \u001b[1;31m# Using 5 K-folds\u001b[0m\u001b[1;33m\u001b[0m\u001b[1;33m\u001b[0m\u001b[1;33m\u001b[0m\u001b[0m\n\u001b[1;32m---> 12\u001b[1;33m     \u001b[0mtest_acc\u001b[0m \u001b[1;33m=\u001b[0m \u001b[0mcross_val_score\u001b[0m\u001b[1;33m(\u001b[0m\u001b[0mrf\u001b[0m\u001b[1;33m,\u001b[0m \u001b[0mX\u001b[0m\u001b[1;33m,\u001b[0m \u001b[0my\u001b[0m\u001b[1;33m,\u001b[0m \u001b[0mscoring\u001b[0m\u001b[1;33m=\u001b[0m\u001b[1;34m'accuracy'\u001b[0m\u001b[1;33m,\u001b[0m \u001b[0mcv\u001b[0m\u001b[1;33m=\u001b[0m\u001b[1;36m5\u001b[0m\u001b[1;33m)\u001b[0m\u001b[1;33m.\u001b[0m\u001b[0mmean\u001b[0m\u001b[1;33m(\u001b[0m\u001b[1;33m)\u001b[0m\u001b[1;33m\u001b[0m\u001b[1;33m\u001b[0m\u001b[0m\n\u001b[0m\u001b[0;32m     13\u001b[0m     \u001b[0mprint\u001b[0m\u001b[1;33m(\u001b[0m\u001b[1;34m'Test accuracy:\\t'\u001b[0m \u001b[1;33m+\u001b[0m \u001b[0mstr\u001b[0m\u001b[1;33m(\u001b[0m\u001b[0mtest_acc\u001b[0m\u001b[1;33m)\u001b[0m \u001b[1;33m+\u001b[0m \u001b[1;34m', nb features:\\t'\u001b[0m \u001b[1;33m+\u001b[0m \u001b[0mstr\u001b[0m\u001b[1;33m(\u001b[0m\u001b[0mnb_features\u001b[0m\u001b[1;33m)\u001b[0m \u001b[1;33m+\u001b[0m \u001b[1;34m', max depth:\\t'\u001b[0m\u001b[1;33m,\u001b[0m \u001b[0mstr\u001b[0m\u001b[1;33m(\u001b[0m\u001b[0mmax_depth\u001b[0m\u001b[1;33m)\u001b[0m\u001b[1;33m)\u001b[0m\u001b[1;33m\u001b[0m\u001b[1;33m\u001b[0m\u001b[0m\n",
      "\u001b[1;32m~\\anaconda3\\envs\\torch\\lib\\site-packages\\sklearn\\utils\\validation.py\u001b[0m in \u001b[0;36minner_f\u001b[1;34m(*args, **kwargs)\u001b[0m\n\u001b[0;32m     71\u001b[0m                           FutureWarning)\n\u001b[0;32m     72\u001b[0m         \u001b[0mkwargs\u001b[0m\u001b[1;33m.\u001b[0m\u001b[0mupdate\u001b[0m\u001b[1;33m(\u001b[0m\u001b[1;33m{\u001b[0m\u001b[0mk\u001b[0m\u001b[1;33m:\u001b[0m \u001b[0marg\u001b[0m \u001b[1;32mfor\u001b[0m \u001b[0mk\u001b[0m\u001b[1;33m,\u001b[0m \u001b[0marg\u001b[0m \u001b[1;32min\u001b[0m \u001b[0mzip\u001b[0m\u001b[1;33m(\u001b[0m\u001b[0msig\u001b[0m\u001b[1;33m.\u001b[0m\u001b[0mparameters\u001b[0m\u001b[1;33m,\u001b[0m \u001b[0margs\u001b[0m\u001b[1;33m)\u001b[0m\u001b[1;33m}\u001b[0m\u001b[1;33m)\u001b[0m\u001b[1;33m\u001b[0m\u001b[1;33m\u001b[0m\u001b[0m\n\u001b[1;32m---> 73\u001b[1;33m         \u001b[1;32mreturn\u001b[0m \u001b[0mf\u001b[0m\u001b[1;33m(\u001b[0m\u001b[1;33m**\u001b[0m\u001b[0mkwargs\u001b[0m\u001b[1;33m)\u001b[0m\u001b[1;33m\u001b[0m\u001b[1;33m\u001b[0m\u001b[0m\n\u001b[0m\u001b[0;32m     74\u001b[0m     \u001b[1;32mreturn\u001b[0m \u001b[0minner_f\u001b[0m\u001b[1;33m\u001b[0m\u001b[1;33m\u001b[0m\u001b[0m\n\u001b[0;32m     75\u001b[0m \u001b[1;33m\u001b[0m\u001b[0m\n",
      "\u001b[1;32m~\\anaconda3\\envs\\torch\\lib\\site-packages\\sklearn\\model_selection\\_validation.py\u001b[0m in \u001b[0;36mcross_val_score\u001b[1;34m(estimator, X, y, groups, scoring, cv, n_jobs, verbose, fit_params, pre_dispatch, error_score)\u001b[0m\n\u001b[0;32m    404\u001b[0m                                 \u001b[0mfit_params\u001b[0m\u001b[1;33m=\u001b[0m\u001b[0mfit_params\u001b[0m\u001b[1;33m,\u001b[0m\u001b[1;33m\u001b[0m\u001b[1;33m\u001b[0m\u001b[0m\n\u001b[0;32m    405\u001b[0m                                 \u001b[0mpre_dispatch\u001b[0m\u001b[1;33m=\u001b[0m\u001b[0mpre_dispatch\u001b[0m\u001b[1;33m,\u001b[0m\u001b[1;33m\u001b[0m\u001b[1;33m\u001b[0m\u001b[0m\n\u001b[1;32m--> 406\u001b[1;33m                                 error_score=error_score)\n\u001b[0m\u001b[0;32m    407\u001b[0m     \u001b[1;32mreturn\u001b[0m \u001b[0mcv_results\u001b[0m\u001b[1;33m[\u001b[0m\u001b[1;34m'test_score'\u001b[0m\u001b[1;33m]\u001b[0m\u001b[1;33m\u001b[0m\u001b[1;33m\u001b[0m\u001b[0m\n\u001b[0;32m    408\u001b[0m \u001b[1;33m\u001b[0m\u001b[0m\n",
      "\u001b[1;32m~\\anaconda3\\envs\\torch\\lib\\site-packages\\sklearn\\utils\\validation.py\u001b[0m in \u001b[0;36minner_f\u001b[1;34m(*args, **kwargs)\u001b[0m\n\u001b[0;32m     71\u001b[0m                           FutureWarning)\n\u001b[0;32m     72\u001b[0m         \u001b[0mkwargs\u001b[0m\u001b[1;33m.\u001b[0m\u001b[0mupdate\u001b[0m\u001b[1;33m(\u001b[0m\u001b[1;33m{\u001b[0m\u001b[0mk\u001b[0m\u001b[1;33m:\u001b[0m \u001b[0marg\u001b[0m \u001b[1;32mfor\u001b[0m \u001b[0mk\u001b[0m\u001b[1;33m,\u001b[0m \u001b[0marg\u001b[0m \u001b[1;32min\u001b[0m \u001b[0mzip\u001b[0m\u001b[1;33m(\u001b[0m\u001b[0msig\u001b[0m\u001b[1;33m.\u001b[0m\u001b[0mparameters\u001b[0m\u001b[1;33m,\u001b[0m \u001b[0margs\u001b[0m\u001b[1;33m)\u001b[0m\u001b[1;33m}\u001b[0m\u001b[1;33m)\u001b[0m\u001b[1;33m\u001b[0m\u001b[1;33m\u001b[0m\u001b[0m\n\u001b[1;32m---> 73\u001b[1;33m         \u001b[1;32mreturn\u001b[0m \u001b[0mf\u001b[0m\u001b[1;33m(\u001b[0m\u001b[1;33m**\u001b[0m\u001b[0mkwargs\u001b[0m\u001b[1;33m)\u001b[0m\u001b[1;33m\u001b[0m\u001b[1;33m\u001b[0m\u001b[0m\n\u001b[0m\u001b[0;32m     74\u001b[0m     \u001b[1;32mreturn\u001b[0m \u001b[0minner_f\u001b[0m\u001b[1;33m\u001b[0m\u001b[1;33m\u001b[0m\u001b[0m\n\u001b[0;32m     75\u001b[0m \u001b[1;33m\u001b[0m\u001b[0m\n",
      "\u001b[1;32m~\\anaconda3\\envs\\torch\\lib\\site-packages\\sklearn\\model_selection\\_validation.py\u001b[0m in \u001b[0;36mcross_validate\u001b[1;34m(estimator, X, y, groups, scoring, cv, n_jobs, verbose, fit_params, pre_dispatch, return_train_score, return_estimator, error_score)\u001b[0m\n\u001b[0;32m    246\u001b[0m             \u001b[0mreturn_times\u001b[0m\u001b[1;33m=\u001b[0m\u001b[1;32mTrue\u001b[0m\u001b[1;33m,\u001b[0m \u001b[0mreturn_estimator\u001b[0m\u001b[1;33m=\u001b[0m\u001b[0mreturn_estimator\u001b[0m\u001b[1;33m,\u001b[0m\u001b[1;33m\u001b[0m\u001b[1;33m\u001b[0m\u001b[0m\n\u001b[0;32m    247\u001b[0m             error_score=error_score)\n\u001b[1;32m--> 248\u001b[1;33m         for train, test in cv.split(X, y, groups))\n\u001b[0m\u001b[0;32m    249\u001b[0m \u001b[1;33m\u001b[0m\u001b[0m\n\u001b[0;32m    250\u001b[0m     \u001b[0mzipped_scores\u001b[0m \u001b[1;33m=\u001b[0m \u001b[0mlist\u001b[0m\u001b[1;33m(\u001b[0m\u001b[0mzip\u001b[0m\u001b[1;33m(\u001b[0m\u001b[1;33m*\u001b[0m\u001b[0mscores\u001b[0m\u001b[1;33m)\u001b[0m\u001b[1;33m)\u001b[0m\u001b[1;33m\u001b[0m\u001b[1;33m\u001b[0m\u001b[0m\n",
      "\u001b[1;32m~\\anaconda3\\envs\\torch\\lib\\site-packages\\joblib\\parallel.py\u001b[0m in \u001b[0;36m__call__\u001b[1;34m(self, iterable)\u001b[0m\n\u001b[0;32m   1027\u001b[0m             \u001b[1;31m# remaining jobs.\u001b[0m\u001b[1;33m\u001b[0m\u001b[1;33m\u001b[0m\u001b[1;33m\u001b[0m\u001b[0m\n\u001b[0;32m   1028\u001b[0m             \u001b[0mself\u001b[0m\u001b[1;33m.\u001b[0m\u001b[0m_iterating\u001b[0m \u001b[1;33m=\u001b[0m \u001b[1;32mFalse\u001b[0m\u001b[1;33m\u001b[0m\u001b[1;33m\u001b[0m\u001b[0m\n\u001b[1;32m-> 1029\u001b[1;33m             \u001b[1;32mif\u001b[0m \u001b[0mself\u001b[0m\u001b[1;33m.\u001b[0m\u001b[0mdispatch_one_batch\u001b[0m\u001b[1;33m(\u001b[0m\u001b[0miterator\u001b[0m\u001b[1;33m)\u001b[0m\u001b[1;33m:\u001b[0m\u001b[1;33m\u001b[0m\u001b[1;33m\u001b[0m\u001b[0m\n\u001b[0m\u001b[0;32m   1030\u001b[0m                 \u001b[0mself\u001b[0m\u001b[1;33m.\u001b[0m\u001b[0m_iterating\u001b[0m \u001b[1;33m=\u001b[0m \u001b[0mself\u001b[0m\u001b[1;33m.\u001b[0m\u001b[0m_original_iterator\u001b[0m \u001b[1;32mis\u001b[0m \u001b[1;32mnot\u001b[0m \u001b[1;32mNone\u001b[0m\u001b[1;33m\u001b[0m\u001b[1;33m\u001b[0m\u001b[0m\n\u001b[0;32m   1031\u001b[0m \u001b[1;33m\u001b[0m\u001b[0m\n",
      "\u001b[1;32m~\\anaconda3\\envs\\torch\\lib\\site-packages\\joblib\\parallel.py\u001b[0m in \u001b[0;36mdispatch_one_batch\u001b[1;34m(self, iterator)\u001b[0m\n\u001b[0;32m    845\u001b[0m                 \u001b[1;32mreturn\u001b[0m \u001b[1;32mFalse\u001b[0m\u001b[1;33m\u001b[0m\u001b[1;33m\u001b[0m\u001b[0m\n\u001b[0;32m    846\u001b[0m             \u001b[1;32melse\u001b[0m\u001b[1;33m:\u001b[0m\u001b[1;33m\u001b[0m\u001b[1;33m\u001b[0m\u001b[0m\n\u001b[1;32m--> 847\u001b[1;33m                 \u001b[0mself\u001b[0m\u001b[1;33m.\u001b[0m\u001b[0m_dispatch\u001b[0m\u001b[1;33m(\u001b[0m\u001b[0mtasks\u001b[0m\u001b[1;33m)\u001b[0m\u001b[1;33m\u001b[0m\u001b[1;33m\u001b[0m\u001b[0m\n\u001b[0m\u001b[0;32m    848\u001b[0m                 \u001b[1;32mreturn\u001b[0m \u001b[1;32mTrue\u001b[0m\u001b[1;33m\u001b[0m\u001b[1;33m\u001b[0m\u001b[0m\n\u001b[0;32m    849\u001b[0m \u001b[1;33m\u001b[0m\u001b[0m\n",
      "\u001b[1;32m~\\anaconda3\\envs\\torch\\lib\\site-packages\\joblib\\parallel.py\u001b[0m in \u001b[0;36m_dispatch\u001b[1;34m(self, batch)\u001b[0m\n\u001b[0;32m    763\u001b[0m         \u001b[1;32mwith\u001b[0m \u001b[0mself\u001b[0m\u001b[1;33m.\u001b[0m\u001b[0m_lock\u001b[0m\u001b[1;33m:\u001b[0m\u001b[1;33m\u001b[0m\u001b[1;33m\u001b[0m\u001b[0m\n\u001b[0;32m    764\u001b[0m             \u001b[0mjob_idx\u001b[0m \u001b[1;33m=\u001b[0m \u001b[0mlen\u001b[0m\u001b[1;33m(\u001b[0m\u001b[0mself\u001b[0m\u001b[1;33m.\u001b[0m\u001b[0m_jobs\u001b[0m\u001b[1;33m)\u001b[0m\u001b[1;33m\u001b[0m\u001b[1;33m\u001b[0m\u001b[0m\n\u001b[1;32m--> 765\u001b[1;33m             \u001b[0mjob\u001b[0m \u001b[1;33m=\u001b[0m \u001b[0mself\u001b[0m\u001b[1;33m.\u001b[0m\u001b[0m_backend\u001b[0m\u001b[1;33m.\u001b[0m\u001b[0mapply_async\u001b[0m\u001b[1;33m(\u001b[0m\u001b[0mbatch\u001b[0m\u001b[1;33m,\u001b[0m \u001b[0mcallback\u001b[0m\u001b[1;33m=\u001b[0m\u001b[0mcb\u001b[0m\u001b[1;33m)\u001b[0m\u001b[1;33m\u001b[0m\u001b[1;33m\u001b[0m\u001b[0m\n\u001b[0m\u001b[0;32m    766\u001b[0m             \u001b[1;31m# A job can complete so quickly than its callback is\u001b[0m\u001b[1;33m\u001b[0m\u001b[1;33m\u001b[0m\u001b[1;33m\u001b[0m\u001b[0m\n\u001b[0;32m    767\u001b[0m             \u001b[1;31m# called before we get here, causing self._jobs to\u001b[0m\u001b[1;33m\u001b[0m\u001b[1;33m\u001b[0m\u001b[1;33m\u001b[0m\u001b[0m\n",
      "\u001b[1;32m~\\anaconda3\\envs\\torch\\lib\\site-packages\\joblib\\_parallel_backends.py\u001b[0m in \u001b[0;36mapply_async\u001b[1;34m(self, func, callback)\u001b[0m\n\u001b[0;32m    204\u001b[0m     \u001b[1;32mdef\u001b[0m \u001b[0mapply_async\u001b[0m\u001b[1;33m(\u001b[0m\u001b[0mself\u001b[0m\u001b[1;33m,\u001b[0m \u001b[0mfunc\u001b[0m\u001b[1;33m,\u001b[0m \u001b[0mcallback\u001b[0m\u001b[1;33m=\u001b[0m\u001b[1;32mNone\u001b[0m\u001b[1;33m)\u001b[0m\u001b[1;33m:\u001b[0m\u001b[1;33m\u001b[0m\u001b[1;33m\u001b[0m\u001b[0m\n\u001b[0;32m    205\u001b[0m         \u001b[1;34m\"\"\"Schedule a func to be run\"\"\"\u001b[0m\u001b[1;33m\u001b[0m\u001b[1;33m\u001b[0m\u001b[0m\n\u001b[1;32m--> 206\u001b[1;33m         \u001b[0mresult\u001b[0m \u001b[1;33m=\u001b[0m \u001b[0mImmediateResult\u001b[0m\u001b[1;33m(\u001b[0m\u001b[0mfunc\u001b[0m\u001b[1;33m)\u001b[0m\u001b[1;33m\u001b[0m\u001b[1;33m\u001b[0m\u001b[0m\n\u001b[0m\u001b[0;32m    207\u001b[0m         \u001b[1;32mif\u001b[0m \u001b[0mcallback\u001b[0m\u001b[1;33m:\u001b[0m\u001b[1;33m\u001b[0m\u001b[1;33m\u001b[0m\u001b[0m\n\u001b[0;32m    208\u001b[0m             \u001b[0mcallback\u001b[0m\u001b[1;33m(\u001b[0m\u001b[0mresult\u001b[0m\u001b[1;33m)\u001b[0m\u001b[1;33m\u001b[0m\u001b[1;33m\u001b[0m\u001b[0m\n",
      "\u001b[1;32m~\\anaconda3\\envs\\torch\\lib\\site-packages\\joblib\\_parallel_backends.py\u001b[0m in \u001b[0;36m__init__\u001b[1;34m(self, batch)\u001b[0m\n\u001b[0;32m    568\u001b[0m         \u001b[1;31m# Don't delay the application, to avoid keeping the input\u001b[0m\u001b[1;33m\u001b[0m\u001b[1;33m\u001b[0m\u001b[1;33m\u001b[0m\u001b[0m\n\u001b[0;32m    569\u001b[0m         \u001b[1;31m# arguments in memory\u001b[0m\u001b[1;33m\u001b[0m\u001b[1;33m\u001b[0m\u001b[1;33m\u001b[0m\u001b[0m\n\u001b[1;32m--> 570\u001b[1;33m         \u001b[0mself\u001b[0m\u001b[1;33m.\u001b[0m\u001b[0mresults\u001b[0m \u001b[1;33m=\u001b[0m \u001b[0mbatch\u001b[0m\u001b[1;33m(\u001b[0m\u001b[1;33m)\u001b[0m\u001b[1;33m\u001b[0m\u001b[1;33m\u001b[0m\u001b[0m\n\u001b[0m\u001b[0;32m    571\u001b[0m \u001b[1;33m\u001b[0m\u001b[0m\n\u001b[0;32m    572\u001b[0m     \u001b[1;32mdef\u001b[0m \u001b[0mget\u001b[0m\u001b[1;33m(\u001b[0m\u001b[0mself\u001b[0m\u001b[1;33m)\u001b[0m\u001b[1;33m:\u001b[0m\u001b[1;33m\u001b[0m\u001b[1;33m\u001b[0m\u001b[0m\n",
      "\u001b[1;32m~\\anaconda3\\envs\\torch\\lib\\site-packages\\joblib\\parallel.py\u001b[0m in \u001b[0;36m__call__\u001b[1;34m(self)\u001b[0m\n\u001b[0;32m    251\u001b[0m         \u001b[1;32mwith\u001b[0m \u001b[0mparallel_backend\u001b[0m\u001b[1;33m(\u001b[0m\u001b[0mself\u001b[0m\u001b[1;33m.\u001b[0m\u001b[0m_backend\u001b[0m\u001b[1;33m,\u001b[0m \u001b[0mn_jobs\u001b[0m\u001b[1;33m=\u001b[0m\u001b[0mself\u001b[0m\u001b[1;33m.\u001b[0m\u001b[0m_n_jobs\u001b[0m\u001b[1;33m)\u001b[0m\u001b[1;33m:\u001b[0m\u001b[1;33m\u001b[0m\u001b[1;33m\u001b[0m\u001b[0m\n\u001b[0;32m    252\u001b[0m             return [func(*args, **kwargs)\n\u001b[1;32m--> 253\u001b[1;33m                     for func, args, kwargs in self.items]\n\u001b[0m\u001b[0;32m    254\u001b[0m \u001b[1;33m\u001b[0m\u001b[0m\n\u001b[0;32m    255\u001b[0m     \u001b[1;32mdef\u001b[0m \u001b[0m__reduce__\u001b[0m\u001b[1;33m(\u001b[0m\u001b[0mself\u001b[0m\u001b[1;33m)\u001b[0m\u001b[1;33m:\u001b[0m\u001b[1;33m\u001b[0m\u001b[1;33m\u001b[0m\u001b[0m\n",
      "\u001b[1;32m~\\anaconda3\\envs\\torch\\lib\\site-packages\\joblib\\parallel.py\u001b[0m in \u001b[0;36m<listcomp>\u001b[1;34m(.0)\u001b[0m\n\u001b[0;32m    251\u001b[0m         \u001b[1;32mwith\u001b[0m \u001b[0mparallel_backend\u001b[0m\u001b[1;33m(\u001b[0m\u001b[0mself\u001b[0m\u001b[1;33m.\u001b[0m\u001b[0m_backend\u001b[0m\u001b[1;33m,\u001b[0m \u001b[0mn_jobs\u001b[0m\u001b[1;33m=\u001b[0m\u001b[0mself\u001b[0m\u001b[1;33m.\u001b[0m\u001b[0m_n_jobs\u001b[0m\u001b[1;33m)\u001b[0m\u001b[1;33m:\u001b[0m\u001b[1;33m\u001b[0m\u001b[1;33m\u001b[0m\u001b[0m\n\u001b[0;32m    252\u001b[0m             return [func(*args, **kwargs)\n\u001b[1;32m--> 253\u001b[1;33m                     for func, args, kwargs in self.items]\n\u001b[0m\u001b[0;32m    254\u001b[0m \u001b[1;33m\u001b[0m\u001b[0m\n\u001b[0;32m    255\u001b[0m     \u001b[1;32mdef\u001b[0m \u001b[0m__reduce__\u001b[0m\u001b[1;33m(\u001b[0m\u001b[0mself\u001b[0m\u001b[1;33m)\u001b[0m\u001b[1;33m:\u001b[0m\u001b[1;33m\u001b[0m\u001b[1;33m\u001b[0m\u001b[0m\n",
      "\u001b[1;32m~\\anaconda3\\envs\\torch\\lib\\site-packages\\sklearn\\model_selection\\_validation.py\u001b[0m in \u001b[0;36m_fit_and_score\u001b[1;34m(estimator, X, y, scorer, train, test, verbose, parameters, fit_params, return_train_score, return_parameters, return_n_test_samples, return_times, return_estimator, error_score)\u001b[0m\n\u001b[0;32m    529\u001b[0m             \u001b[0mestimator\u001b[0m\u001b[1;33m.\u001b[0m\u001b[0mfit\u001b[0m\u001b[1;33m(\u001b[0m\u001b[0mX_train\u001b[0m\u001b[1;33m,\u001b[0m \u001b[1;33m**\u001b[0m\u001b[0mfit_params\u001b[0m\u001b[1;33m)\u001b[0m\u001b[1;33m\u001b[0m\u001b[1;33m\u001b[0m\u001b[0m\n\u001b[0;32m    530\u001b[0m         \u001b[1;32melse\u001b[0m\u001b[1;33m:\u001b[0m\u001b[1;33m\u001b[0m\u001b[1;33m\u001b[0m\u001b[0m\n\u001b[1;32m--> 531\u001b[1;33m             \u001b[0mestimator\u001b[0m\u001b[1;33m.\u001b[0m\u001b[0mfit\u001b[0m\u001b[1;33m(\u001b[0m\u001b[0mX_train\u001b[0m\u001b[1;33m,\u001b[0m \u001b[0my_train\u001b[0m\u001b[1;33m,\u001b[0m \u001b[1;33m**\u001b[0m\u001b[0mfit_params\u001b[0m\u001b[1;33m)\u001b[0m\u001b[1;33m\u001b[0m\u001b[1;33m\u001b[0m\u001b[0m\n\u001b[0m\u001b[0;32m    532\u001b[0m \u001b[1;33m\u001b[0m\u001b[0m\n\u001b[0;32m    533\u001b[0m     \u001b[1;32mexcept\u001b[0m \u001b[0mException\u001b[0m \u001b[1;32mas\u001b[0m \u001b[0me\u001b[0m\u001b[1;33m:\u001b[0m\u001b[1;33m\u001b[0m\u001b[1;33m\u001b[0m\u001b[0m\n",
      "\u001b[1;32m<ipython-input-114-40b037bec86d>\u001b[0m in \u001b[0;36mfit\u001b[1;34m(self, X, y, **kwargs)\u001b[0m\n\u001b[0;32m     14\u001b[0m             \u001b[0mX_bstrp\u001b[0m\u001b[1;33m,\u001b[0m \u001b[0my_bstrp\u001b[0m \u001b[1;33m=\u001b[0m \u001b[0mself\u001b[0m\u001b[1;33m.\u001b[0m\u001b[0mget_boostrap_data\u001b[0m\u001b[1;33m(\u001b[0m\u001b[0mX\u001b[0m\u001b[1;33m,\u001b[0m \u001b[0my\u001b[0m\u001b[1;33m)\u001b[0m\u001b[1;33m\u001b[0m\u001b[1;33m\u001b[0m\u001b[0m\n\u001b[0;32m     15\u001b[0m             \u001b[0mdt\u001b[0m \u001b[1;33m=\u001b[0m \u001b[0mDecisionTreeClassifier\u001b[0m\u001b[1;33m(\u001b[0m\u001b[0mself\u001b[0m\u001b[1;33m.\u001b[0m\u001b[0mmax_depth\u001b[0m\u001b[1;33m,\u001b[0m \u001b[0mself\u001b[0m\u001b[1;33m.\u001b[0m\u001b[0mis_categorical\u001b[0m\u001b[1;33m,\u001b[0m \u001b[0mself\u001b[0m\u001b[1;33m.\u001b[0m\u001b[0mcolumns\u001b[0m\u001b[1;33m,\u001b[0m \u001b[0mself\u001b[0m\u001b[1;33m.\u001b[0m\u001b[0mnb_features\u001b[0m\u001b[1;33m)\u001b[0m\u001b[1;33m\u001b[0m\u001b[1;33m\u001b[0m\u001b[0m\n\u001b[1;32m---> 16\u001b[1;33m             \u001b[0mdt\u001b[0m\u001b[1;33m.\u001b[0m\u001b[0mfit\u001b[0m\u001b[1;33m(\u001b[0m\u001b[0mX_bstrp\u001b[0m\u001b[1;33m,\u001b[0m \u001b[0my_bstrp\u001b[0m\u001b[1;33m)\u001b[0m\u001b[1;33m\u001b[0m\u001b[1;33m\u001b[0m\u001b[0m\n\u001b[0m\u001b[0;32m     17\u001b[0m             \u001b[0mself\u001b[0m\u001b[1;33m.\u001b[0m\u001b[0mtrees\u001b[0m\u001b[1;33m.\u001b[0m\u001b[0mappend\u001b[0m\u001b[1;33m(\u001b[0m\u001b[0mdt\u001b[0m\u001b[1;33m)\u001b[0m\u001b[1;33m\u001b[0m\u001b[1;33m\u001b[0m\u001b[0m\n\u001b[0;32m     18\u001b[0m \u001b[1;33m\u001b[0m\u001b[0m\n",
      "\u001b[1;32m<ipython-input-111-e8ae33edd108>\u001b[0m in \u001b[0;36mfit\u001b[1;34m(self, X, y, **kwargs)\u001b[0m\n\u001b[0;32m     19\u001b[0m         \u001b[1;32mif\u001b[0m \u001b[0mself\u001b[0m\u001b[1;33m.\u001b[0m\u001b[0mnb_features\u001b[0m \u001b[1;33m>\u001b[0m \u001b[0mX\u001b[0m\u001b[1;33m.\u001b[0m\u001b[0mshape\u001b[0m\u001b[1;33m[\u001b[0m\u001b[1;36m1\u001b[0m\u001b[1;33m]\u001b[0m\u001b[1;33m:\u001b[0m\u001b[1;33m\u001b[0m\u001b[1;33m\u001b[0m\u001b[0m\n\u001b[0;32m     20\u001b[0m             \u001b[1;32mraise\u001b[0m \u001b[0mValueError\u001b[0m\u001b[1;33m(\u001b[0m\u001b[1;34m'parameter np_features should be less than equal to the number of features'\u001b[0m\u001b[1;33m)\u001b[0m\u001b[1;33m\u001b[0m\u001b[1;33m\u001b[0m\u001b[0m\n\u001b[1;32m---> 21\u001b[1;33m         \u001b[0mself\u001b[0m\u001b[1;33m.\u001b[0m\u001b[0mroot\u001b[0m \u001b[1;33m=\u001b[0m \u001b[0mNode\u001b[0m\u001b[1;33m(\u001b[0m\u001b[0mX\u001b[0m\u001b[1;33m,\u001b[0m \u001b[0my\u001b[0m\u001b[1;33m,\u001b[0m \u001b[0mself\u001b[0m\u001b[1;33m.\u001b[0m\u001b[0mis_categorical\u001b[0m\u001b[1;33m,\u001b[0m \u001b[0mself\u001b[0m\u001b[1;33m.\u001b[0m\u001b[0mmax_depth\u001b[0m\u001b[1;33m,\u001b[0m \u001b[0mself\u001b[0m\u001b[1;33m.\u001b[0m\u001b[0mcolumns\u001b[0m\u001b[1;33m,\u001b[0m \u001b[1;36m0\u001b[0m\u001b[1;33m,\u001b[0m \u001b[0mself\u001b[0m\u001b[1;33m.\u001b[0m\u001b[0mnb_features\u001b[0m\u001b[1;33m)\u001b[0m\u001b[1;33m\u001b[0m\u001b[1;33m\u001b[0m\u001b[0m\n\u001b[0m\u001b[0;32m     22\u001b[0m \u001b[1;33m\u001b[0m\u001b[0m\n\u001b[0;32m     23\u001b[0m     \u001b[1;32mdef\u001b[0m \u001b[0mpredict\u001b[0m\u001b[1;33m(\u001b[0m\u001b[0mself\u001b[0m\u001b[1;33m,\u001b[0m \u001b[0mX\u001b[0m\u001b[1;33m)\u001b[0m\u001b[1;33m:\u001b[0m\u001b[1;33m\u001b[0m\u001b[1;33m\u001b[0m\u001b[0m\n",
      "\u001b[1;32m<ipython-input-110-f3d563b0f770>\u001b[0m in \u001b[0;36m__init__\u001b[1;34m(self, X, y, is_categorical, max_depth, columns, depth, nb_features)\u001b[0m\n\u001b[0;32m     44\u001b[0m             \u001b[0mself\u001b[0m\u001b[1;33m.\u001b[0m\u001b[0mmake_leaf\u001b[0m\u001b[1;33m(\u001b[0m\u001b[1;33m)\u001b[0m\u001b[1;33m\u001b[0m\u001b[1;33m\u001b[0m\u001b[0m\n\u001b[0;32m     45\u001b[0m         \u001b[1;32melse\u001b[0m\u001b[1;33m:\u001b[0m\u001b[1;33m\u001b[0m\u001b[1;33m\u001b[0m\u001b[0m\n\u001b[1;32m---> 46\u001b[1;33m             \u001b[0mself\u001b[0m\u001b[1;33m.\u001b[0m\u001b[0mmake_split\u001b[0m\u001b[1;33m(\u001b[0m\u001b[0mparams\u001b[0m\u001b[1;33m,\u001b[0m \u001b[0mmax_depth\u001b[0m\u001b[1;33m)\u001b[0m\u001b[1;33m\u001b[0m\u001b[1;33m\u001b[0m\u001b[0m\n\u001b[0m\u001b[0;32m     47\u001b[0m \u001b[1;33m\u001b[0m\u001b[0m\n\u001b[0;32m     48\u001b[0m     \u001b[1;31m# Clean variables that are not usefull to predict\u001b[0m\u001b[1;33m\u001b[0m\u001b[1;33m\u001b[0m\u001b[1;33m\u001b[0m\u001b[0m\n",
      "\u001b[1;32m<ipython-input-110-f3d563b0f770>\u001b[0m in \u001b[0;36mmake_split\u001b[1;34m(self, params, max_depth)\u001b[0m\n\u001b[0;32m     94\u001b[0m                           \u001b[0mcolumns\u001b[0m\u001b[1;33m=\u001b[0m\u001b[0mcols\u001b[0m\u001b[1;33m,\u001b[0m\u001b[1;33m\u001b[0m\u001b[1;33m\u001b[0m\u001b[0m\n\u001b[0;32m     95\u001b[0m                           \u001b[0mdepth\u001b[0m\u001b[1;33m=\u001b[0m\u001b[0mself\u001b[0m\u001b[1;33m.\u001b[0m\u001b[0mdepth\u001b[0m \u001b[1;33m+\u001b[0m \u001b[1;36m1\u001b[0m\u001b[1;33m,\u001b[0m\u001b[1;33m\u001b[0m\u001b[1;33m\u001b[0m\u001b[0m\n\u001b[1;32m---> 96\u001b[1;33m                           nb_features=self.nb_features)\n\u001b[0m\u001b[0;32m     97\u001b[0m         \u001b[0mself\u001b[0m\u001b[1;33m.\u001b[0m\u001b[0mclean_attributes\u001b[0m\u001b[1;33m(\u001b[0m\u001b[1;33m)\u001b[0m\u001b[1;33m\u001b[0m\u001b[1;33m\u001b[0m\u001b[0m\n\u001b[0;32m     98\u001b[0m \u001b[1;33m\u001b[0m\u001b[0m\n",
      "\u001b[1;32m<ipython-input-110-f3d563b0f770>\u001b[0m in \u001b[0;36m__init__\u001b[1;34m(self, X, y, is_categorical, max_depth, columns, depth, nb_features)\u001b[0m\n\u001b[0;32m     37\u001b[0m         \u001b[1;31m# Computing the gini index on the population before the split\u001b[0m\u001b[1;33m\u001b[0m\u001b[1;33m\u001b[0m\u001b[1;33m\u001b[0m\u001b[0m\n\u001b[0;32m     38\u001b[0m         \u001b[0mgini_n\u001b[0m \u001b[1;33m=\u001b[0m \u001b[0mgini\u001b[0m\u001b[1;33m(\u001b[0m\u001b[0my\u001b[0m\u001b[1;33m)\u001b[0m\u001b[1;33m\u001b[0m\u001b[1;33m\u001b[0m\u001b[0m\n\u001b[1;32m---> 39\u001b[1;33m         \u001b[0mparams\u001b[0m \u001b[1;33m=\u001b[0m \u001b[0mself\u001b[0m\u001b[1;33m.\u001b[0m\u001b[0mfind_best_split\u001b[0m\u001b[1;33m(\u001b[0m\u001b[1;33m)\u001b[0m\u001b[1;33m\u001b[0m\u001b[1;33m\u001b[0m\u001b[0m\n\u001b[0m\u001b[0;32m     40\u001b[0m \u001b[1;33m\u001b[0m\u001b[0m\n\u001b[0;32m     41\u001b[0m         \u001b[0mgini_s\u001b[0m \u001b[1;33m=\u001b[0m \u001b[0mparams\u001b[0m\u001b[1;33m[\u001b[0m\u001b[1;36m0\u001b[0m\u001b[1;33m]\u001b[0m\u001b[1;33m\u001b[0m\u001b[1;33m\u001b[0m\u001b[0m\n",
      "\u001b[1;32m<ipython-input-110-f3d563b0f770>\u001b[0m in \u001b[0;36mfind_best_split\u001b[1;34m(self)\u001b[0m\n\u001b[0;32m    138\u001b[0m                     \u001b[0midx_leq\u001b[0m \u001b[1;33m=\u001b[0m \u001b[1;33m(\u001b[0m\u001b[0mvals\u001b[0m \u001b[1;33m<=\u001b[0m \u001b[0mcutoff\u001b[0m\u001b[1;33m)\u001b[0m\u001b[1;33m.\u001b[0m\u001b[0mnonzero\u001b[0m\u001b[1;33m(\u001b[0m\u001b[1;33m)\u001b[0m\u001b[1;33m\u001b[0m\u001b[1;33m\u001b[0m\u001b[0m\n\u001b[0;32m    139\u001b[0m                     \u001b[0midx_ge\u001b[0m \u001b[1;33m=\u001b[0m \u001b[1;33m(\u001b[0m\u001b[0mvals\u001b[0m \u001b[1;33m>\u001b[0m \u001b[0mcutoff\u001b[0m\u001b[1;33m)\u001b[0m\u001b[1;33m.\u001b[0m\u001b[0mnonzero\u001b[0m\u001b[1;33m(\u001b[0m\u001b[1;33m)\u001b[0m\u001b[1;33m\u001b[0m\u001b[1;33m\u001b[0m\u001b[0m\n\u001b[1;32m--> 140\u001b[1;33m                     \u001b[0mbest_params\u001b[0m \u001b[1;33m=\u001b[0m \u001b[0mself\u001b[0m\u001b[1;33m.\u001b[0m\u001b[0mgini_split\u001b[0m\u001b[1;33m(\u001b[0m\u001b[0midx_leq\u001b[0m\u001b[1;33m,\u001b[0m \u001b[0midx_ge\u001b[0m\u001b[1;33m,\u001b[0m \u001b[0mcutoff\u001b[0m\u001b[1;33m,\u001b[0m \u001b[0mi\u001b[0m\u001b[1;33m,\u001b[0m \u001b[0mbest_params\u001b[0m\u001b[1;33m)\u001b[0m\u001b[1;33m\u001b[0m\u001b[1;33m\u001b[0m\u001b[0m\n\u001b[0m\u001b[0;32m    141\u001b[0m         \u001b[1;32mreturn\u001b[0m \u001b[0mbest_params\u001b[0m\u001b[1;33m\u001b[0m\u001b[1;33m\u001b[0m\u001b[0m\n\u001b[0;32m    142\u001b[0m \u001b[1;33m\u001b[0m\u001b[0m\n",
      "\u001b[1;32m<ipython-input-110-f3d563b0f770>\u001b[0m in \u001b[0;36mgini_split\u001b[1;34m(self, idx_g_1, idx_g_2, cutoff, feature_idx, best_params)\u001b[0m\n\u001b[0;32m    100\u001b[0m     \u001b[1;32mdef\u001b[0m \u001b[0mgini_split\u001b[0m\u001b[1;33m(\u001b[0m\u001b[0mself\u001b[0m\u001b[1;33m,\u001b[0m \u001b[0midx_g_1\u001b[0m\u001b[1;33m,\u001b[0m \u001b[0midx_g_2\u001b[0m\u001b[1;33m,\u001b[0m \u001b[0mcutoff\u001b[0m\u001b[1;33m,\u001b[0m \u001b[0mfeature_idx\u001b[0m\u001b[1;33m,\u001b[0m \u001b[0mbest_params\u001b[0m\u001b[1;33m)\u001b[0m\u001b[1;33m:\u001b[0m\u001b[1;33m\u001b[0m\u001b[1;33m\u001b[0m\u001b[0m\n\u001b[0;32m    101\u001b[0m         \u001b[0mg_1\u001b[0m \u001b[1;33m=\u001b[0m \u001b[0mself\u001b[0m\u001b[1;33m.\u001b[0m\u001b[0my\u001b[0m\u001b[1;33m[\u001b[0m\u001b[0midx_g_1\u001b[0m\u001b[1;33m]\u001b[0m\u001b[1;33m.\u001b[0m\u001b[0msqueeze\u001b[0m\u001b[1;33m(\u001b[0m\u001b[1;36m1\u001b[0m\u001b[1;33m)\u001b[0m\u001b[1;33m\u001b[0m\u001b[1;33m\u001b[0m\u001b[0m\n\u001b[1;32m--> 102\u001b[1;33m         \u001b[0mg_2\u001b[0m \u001b[1;33m=\u001b[0m \u001b[0mself\u001b[0m\u001b[1;33m.\u001b[0m\u001b[0my\u001b[0m\u001b[1;33m[\u001b[0m\u001b[0midx_g_2\u001b[0m\u001b[1;33m]\u001b[0m\u001b[1;33m.\u001b[0m\u001b[0msqueeze\u001b[0m\u001b[1;33m(\u001b[0m\u001b[1;36m1\u001b[0m\u001b[1;33m)\u001b[0m\u001b[1;33m\u001b[0m\u001b[1;33m\u001b[0m\u001b[0m\n\u001b[0m\u001b[0;32m    103\u001b[0m         \u001b[0mgini_g1\u001b[0m \u001b[1;33m=\u001b[0m \u001b[0mgini\u001b[0m\u001b[1;33m(\u001b[0m\u001b[0mg_1\u001b[0m\u001b[1;33m)\u001b[0m \u001b[1;33m*\u001b[0m \u001b[1;33m(\u001b[0m\u001b[0mfloat\u001b[0m\u001b[1;33m(\u001b[0m\u001b[0mg_1\u001b[0m\u001b[1;33m.\u001b[0m\u001b[0mshape\u001b[0m\u001b[1;33m[\u001b[0m\u001b[1;36m0\u001b[0m\u001b[1;33m]\u001b[0m\u001b[1;33m)\u001b[0m \u001b[1;33m/\u001b[0m \u001b[0mself\u001b[0m\u001b[1;33m.\u001b[0m\u001b[0msize\u001b[0m\u001b[1;33m)\u001b[0m\u001b[1;33m\u001b[0m\u001b[1;33m\u001b[0m\u001b[0m\n\u001b[0;32m    104\u001b[0m         \u001b[0mgini_g2\u001b[0m \u001b[1;33m=\u001b[0m \u001b[0mgini\u001b[0m\u001b[1;33m(\u001b[0m\u001b[0mg_2\u001b[0m\u001b[1;33m)\u001b[0m \u001b[1;33m*\u001b[0m \u001b[1;33m(\u001b[0m\u001b[0mfloat\u001b[0m\u001b[1;33m(\u001b[0m\u001b[0mg_2\u001b[0m\u001b[1;33m.\u001b[0m\u001b[0mshape\u001b[0m\u001b[1;33m[\u001b[0m\u001b[1;36m0\u001b[0m\u001b[1;33m]\u001b[0m\u001b[1;33m)\u001b[0m \u001b[1;33m/\u001b[0m \u001b[0mself\u001b[0m\u001b[1;33m.\u001b[0m\u001b[0msize\u001b[0m\u001b[1;33m)\u001b[0m\u001b[1;33m\u001b[0m\u001b[1;33m\u001b[0m\u001b[0m\n",
      "\u001b[1;31mKeyboardInterrupt\u001b[0m: "
     ]
    }
   ],
   "source": [
    "max_depth_params = [3, 4]\n",
    "nb_features_params = [i for i in range(2, 10)]\n",
    "for _ in range(20):\n",
    "    max_depth = np.random.choice(max_depth_params)\n",
    "    nb_features = np.random.choice(nb_features_params) \n",
    "    rf = RandomForestClassifier(max_depth=max_depth,\n",
    "                                is_categorical=is_categorical,\n",
    "                                columns=hdisease.columns,\n",
    "                                nb_features=nb_features,\n",
    "                                n_estimators=100)\n",
    "    # Using 5 K-folds\n",
    "    test_acc = cross_val_score(rf, X, y, scoring='accuracy', cv=5).mean()\n",
    "    print('Test accuracy:\\t' + str(test_acc) + ', nb features:\\t' + str(nb_features) + ', max depth:\\t', str(max_depth))"
   ]
  },
  {
   "cell_type": "markdown",
   "metadata": {},
   "source": [
    "After a quick parameter search, the model achieves 84% accuracy. A great improvement of 3% comparing to a single decision tree.<br>\n",
    "To go further we will try a technique known as boosting."
   ]
  },
  {
   "cell_type": "markdown",
   "metadata": {},
   "source": [
    "### Boosting\n",
    "Boosting is an algorithm using multiple weak learners. A weak learner is defined to be slightly better than random guessing. The purpose of boosting is to sequentially apply the weak classification algorithm to repeatedly modified versions of the data.\n",
    "            \n",
    "The most common weak learner is known as a  stamp. A stamp is an univariate tree with only one split.\n",
    "The predictions from the weak learners are combined through a weighted majority vote:\n",
    "$$\n",
    "    f(\\boldsymbol{x}) = \\text{sign}\\left(\\sum_{m=1}^{M}\\alpha_m f_m(\\boldsymbol{x})\\right)\n",
    "$$\n",
    "where $f(\\boldsymbol{x})$ is the prediction of the final model, $f_m(\\boldsymbol{x})$ is the prediction of the weak learner $m$ and $\\{\\alpha_1, \\dots, \\alpha_M\\}$ are the weights computed by the boosting algorithm. Their effect is to give higher influence to the more accurate \n",
    "learners. This formula represent the prediction in case of a binary classification $\\{-1, 1\\}$\n",
    "            \n",
    "The data modification consists of applying weights $\\{\\boldsymbol{w_1}, \\dots, \\boldsymbol{w_m}\\}$ to each training samples. Initially the weights are set to $\\frac{1}{N}$ where $N$ is the number of samples. at iteration $k$, we perform a data transformation using the weights on each training samples. We fit the data into the model and the samples that were misclassified by the learner $f_{k-1}$ have their weights increased while the samples that were well classified by $f_{k-1}$ have their weights decreased. While the training goes on, the importance of the harder samples sequentially increase and the learners are forced to concentrate on the observation that are missed on the previous iterations."
   ]
  },
  {
   "cell_type": "code",
   "execution_count": 182,
   "metadata": {},
   "outputs": [],
   "source": [
    "class AdaBoostClassifier(BaseEstimator):\n",
    "    def __init__(self, columns, is_categorical, n_estimators, lr=1):\n",
    "        self.columns = columns\n",
    "        self.is_categorical = is_categorical\n",
    "        self.n_estimators = n_estimators\n",
    "        self.lr = lr\n",
    "        self.learners = []\n",
    "        self.alphas = None\n",
    "        for i in range(self.n_estimators):\n",
    "            # Each learner is a stamp:\n",
    "            # it has only split and is using only one feature\n",
    "            self.learners.append(DecisionTreeClassifier(max_depth=1,\n",
    "                                                        is_categorical=is_categorical,\n",
    "                                                        columns=columns,\n",
    "                                                        nb_features=0))\n",
    "    \n",
    "    def compute_weighted_err(self, y_true, y_pred, weights):\n",
    "        idx_neq = (y_true != y_pred).nonzero()\n",
    "        return weights[idx_neq].sum() / weights.sum()\n",
    "    \n",
    "    def set_alpha(self, err):\n",
    "        if err == 0:\n",
    "            return torch.log(1 / 1e-10) / 2\n",
    "        return torch.log((1 - err) / err) / 2\n",
    "    \n",
    "    def update_weights(self, weights, y_true, y_pred, alpha, idx):\n",
    "        old_weights = weights.clone()\n",
    "        weights[idx] *= torch.exp(alpha * (y_pred != y_true).int().unsqueeze(1))\n",
    "        weights[idx] *= torch.exp(-alpha * (y_pred == y_true).int().unsqueeze(1))\n",
    "        weights /= weights.sum()\n",
    "        return weights\n",
    "    \n",
    "    def update_range_select(self, weights, range_selection):\n",
    "        range_selection[0, 0] = 0\n",
    "        range_selection[0, 1] = weights[0]\n",
    "        for i in range(1, weights.shape[0]):\n",
    "            range_selection[i, 0] = range_selection[i - 1, 1]\n",
    "            range_selection[i, 1] = range_selection[i, 0] + weights[i]\n",
    "        return range_selection\n",
    "            \n",
    "    def rand_data_idx(self, size, range_selection, idx):\n",
    "        rand_vals = torch.rand((size,))\n",
    "        for i in range(size):\n",
    "            r = rand_vals[i]\n",
    "            for j in range(size):\n",
    "                if r >= range_selection[j, 0] and r < range_selection[j, 1]:\n",
    "                    idx[i] = j\n",
    "                    break\n",
    "        return idx\n",
    "    \n",
    "    def fit(self, X, y, **kwargs):\n",
    "        size = X.shape[0]\n",
    "        weights = torch.empty((size, 1)).fill_(1 / size)\n",
    "        alphas = torch.zeros((self.n_estimators, 1))\n",
    "        range_selection = torch.zeros((size, 2), dtype=torch.float32)\n",
    "        idx = torch.tensor([i for i in range(size)])\n",
    "        for i in range(self.n_estimators):\n",
    "            X_cur = X[idx]\n",
    "            y_cur = y[idx]\n",
    "            weights_cur = weights[idx]\n",
    "            \n",
    "            self.learners[i].fit(X_cur, y_cur)\n",
    "            pred = self.learners[i].predict(X_cur)\n",
    "            err = self.compute_weighted_err(y_cur, pred, weights_cur)\n",
    "            new_alpha = self.set_alpha(err)\n",
    "            alphas[i] = new_alpha\n",
    "                \n",
    "            weights = self.update_weights(weights, y_cur, pred, new_alpha, idx)\n",
    "            \n",
    "            range_selection = self.update_range_select(weights, range_selection)\n",
    "            idx = self.rand_data_idx(size, range_selection, idx)\n",
    "            print(len(idx.unique()), end='\\n\\n')\n",
    "        self.alphas = alphas\n",
    "    \n",
    "    def predict(self, X):\n",
    "        size = X.shape[0]\n",
    "        preds = torch.zeros((size, 1), dtype=torch.float32)\n",
    "        for i in range(self.n_estimators):\n",
    "            pred = self.learners[i].predict(X).unsqueeze(1)\n",
    "            pred[pred == 0] = -1\n",
    "            preds += self.alphas[i] * pred\n",
    "        preds = torch.sign(preds)\n",
    "        preds[preds == -1] = 0\n",
    "        \n",
    "        return preds\n",
    "    \n",
    "    #def predict(self, X):\n",
    "    #    size = X.shape[0]\n",
    "    #    preds = torch.zeros((size, 2), dtype=torch.float32)\n",
    "    #    for i in range(self.n_estimators):\n",
    "    #        pred = self.learners[i].predict(X)\n",
    "    #        #print('alpha:', self.alphas[i])\n",
    "    #        idx_z = (pred == 0).nonzero().squeeze(1)\n",
    "    #        idx_nz = (pred == 1).nonzero().squeeze(1)\n",
    "    #        preds[idx_z, 0] += self.alphas[i]\n",
    "    #        preds[idx_nz, 1] += self.alphas[i]\n",
    "    #        #print(np.c_[pred, preds], end='\\n\\n')\n",
    "    #    return preds.argmax(dim=1)"
   ]
  },
  {
   "cell_type": "code",
   "execution_count": 187,
   "metadata": {},
   "outputs": [
    {
     "name": "stdout",
     "output_type": "stream",
     "text": [
      "171\n",
      "\n",
      "166\n",
      "\n",
      "168\n",
      "\n",
      "156\n",
      "\n",
      "158\n",
      "\n",
      "157\n",
      "\n",
      "160\n",
      "\n",
      "145\n",
      "\n",
      "141\n",
      "\n",
      "147\n",
      "\n"
     ]
    }
   ],
   "source": [
    "adaboost = AdaBoostClassifier(hdisease.columns, is_categorical, n_estimators=10)\n",
    "adaboost.fit(X, y)"
   ]
  },
  {
   "cell_type": "code",
   "execution_count": 184,
   "metadata": {},
   "outputs": [
    {
     "name": "stdout",
     "output_type": "stream",
     "text": [
      "{'categorical': 1,\n",
      " 'cutoff': 3.0,\n",
      " 'feature': 'thal',\n",
      " 'left': {'pred': 0},\n",
      " 'right': {'pred': 1}}\n",
      "\n",
      "{'categorical': 1,\n",
      " 'cutoff': 4.0,\n",
      " 'feature': 'cp',\n",
      " 'left': {'pred': 1},\n",
      " 'right': {'pred': 0}}\n",
      "\n",
      "{'categorical': 1,\n",
      " 'cutoff': 0.0,\n",
      " 'feature': 'ca',\n",
      " 'left': {'pred': 0},\n",
      " 'right': {'pred': 1}}\n",
      "\n",
      "{'categorical': 0,\n",
      " 'cutoff': 1.6,\n",
      " 'feature': 'oldpeak',\n",
      " 'left': {'pred': 0},\n",
      " 'right': {'pred': 1}}\n",
      "\n",
      "{'categorical': 0,\n",
      " 'cutoff': 57.0,\n",
      " 'feature': 'age',\n",
      " 'left': {'pred': 0},\n",
      " 'right': {'pred': 1}}\n",
      "\n",
      "{'categorical': 0,\n",
      " 'cutoff': 135.0,\n",
      " 'feature': 'trestbps',\n",
      " 'left': {'pred': 0},\n",
      " 'right': {'pred': 1}}\n",
      "\n",
      "{'categorical': 0,\n",
      " 'cutoff': 63.0,\n",
      " 'feature': 'age',\n",
      " 'left': {'pred': 1},\n",
      " 'right': {'pred': 0}}\n",
      "\n",
      "{'categorical': 0,\n",
      " 'cutoff': 160.0,\n",
      " 'feature': 'thalach',\n",
      " 'left': {'pred': 1},\n",
      " 'right': {'pred': 0}}\n",
      "\n",
      "{'categorical': 0,\n",
      " 'cutoff': 136.0,\n",
      " 'feature': 'thalach',\n",
      " 'left': {'pred': 1},\n",
      " 'right': {'pred': 0}}\n",
      "\n",
      "{'categorical': 0,\n",
      " 'cutoff': 228.0,\n",
      " 'feature': 'chol',\n",
      " 'left': {'pred': 0},\n",
      " 'right': {'pred': 1}}\n",
      "\n",
      "{'categorical': 0,\n",
      " 'cutoff': 230.0,\n",
      " 'feature': 'chol',\n",
      " 'left': {'pred': 1},\n",
      " 'right': {'pred': 0}}\n",
      "\n",
      "{'categorical': 1,\n",
      " 'cutoff': 4.0,\n",
      " 'feature': 'ca',\n",
      " 'left': {'pred': 0},\n",
      " 'right': {'pred': 1}}\n",
      "\n",
      "{'categorical': 1,\n",
      " 'cutoff': 0.0,\n",
      " 'feature': 'sex',\n",
      " 'left': {'pred': 0},\n",
      " 'right': {'pred': 0}}\n",
      "\n",
      "{'categorical': 1,\n",
      " 'cutoff': 0.0,\n",
      " 'feature': 'sex',\n",
      " 'left': {'pred': 0},\n",
      " 'right': {'pred': 1}}\n",
      "\n",
      "{'categorical': 1,\n",
      " 'cutoff': 0.0,\n",
      " 'feature': 'ca',\n",
      " 'left': {'pred': 0},\n",
      " 'right': {'pred': 1}}\n",
      "\n",
      "{'categorical': 0,\n",
      " 'cutoff': 325.0,\n",
      " 'feature': 'chol',\n",
      " 'left': {'pred': 0},\n",
      " 'right': {'pred': 1}}\n",
      "\n",
      "{'categorical': 0,\n",
      " 'cutoff': 0.5,\n",
      " 'feature': 'oldpeak',\n",
      " 'left': {'pred': 1},\n",
      " 'right': {'pred': 1}}\n",
      "\n",
      "{'categorical': 0,\n",
      " 'cutoff': 1.2,\n",
      " 'feature': 'oldpeak',\n",
      " 'left': {'pred': 0},\n",
      " 'right': {'pred': 1}}\n",
      "\n",
      "{'categorical': 0,\n",
      " 'cutoff': 1.2,\n",
      " 'feature': 'oldpeak',\n",
      " 'left': {'pred': 1},\n",
      " 'right': {'pred': 0}}\n",
      "\n",
      "{'categorical': 0,\n",
      " 'cutoff': 0.5,\n",
      " 'feature': 'oldpeak',\n",
      " 'left': {'pred': 0},\n",
      " 'right': {'pred': 1}}\n",
      "\n",
      "{'categorical': 0,\n",
      " 'cutoff': 0.0,\n",
      " 'feature': 'oldpeak',\n",
      " 'left': {'pred': 1},\n",
      " 'right': {'pred': 0}}\n",
      "\n",
      "{'categorical': 0,\n",
      " 'cutoff': 0.0,\n",
      " 'feature': 'oldpeak',\n",
      " 'left': {'pred': 0},\n",
      " 'right': {'pred': 1}}\n",
      "\n",
      "{'categorical': 0,\n",
      " 'cutoff': 0.0,\n",
      " 'feature': 'oldpeak',\n",
      " 'left': {'pred': 1},\n",
      " 'right': {'pred': 0}}\n",
      "\n",
      "{'categorical': 0,\n",
      " 'cutoff': 144.0,\n",
      " 'feature': 'thalach',\n",
      " 'left': {'pred': 1},\n",
      " 'right': {'pred': 0}}\n",
      "\n",
      "{'categorical': 0,\n",
      " 'cutoff': 138.0,\n",
      " 'feature': 'thalach',\n",
      " 'left': {'pred': 0},\n",
      " 'right': {'pred': 1}}\n",
      "\n",
      "{'categorical': 0,\n",
      " 'cutoff': 131.0,\n",
      " 'feature': 'thalach',\n",
      " 'left': {'pred': 1},\n",
      " 'right': {'pred': 0}}\n",
      "\n",
      "{'categorical': 0,\n",
      " 'cutoff': 221.0,\n",
      " 'feature': 'chol',\n",
      " 'left': {'pred': 0},\n",
      " 'right': {'pred': 1}}\n",
      "\n",
      "{'categorical': 0,\n",
      " 'cutoff': 2.0,\n",
      " 'feature': 'oldpeak',\n",
      " 'left': {'pred': 0},\n",
      " 'right': {'pred': 1}}\n",
      "\n",
      "{'categorical': 0,\n",
      " 'cutoff': 174.0,\n",
      " 'feature': 'thalach',\n",
      " 'left': {'pred': 1},\n",
      " 'right': {'pred': 0}}\n",
      "\n",
      "{'categorical': 0,\n",
      " 'cutoff': 270.0,\n",
      " 'feature': 'chol',\n",
      " 'left': {'pred': 0},\n",
      " 'right': {'pred': 1}}\n",
      "\n"
     ]
    }
   ],
   "source": [
    "for t in adaboost.learners:\n",
    "    print(t)"
   ]
  },
  {
   "cell_type": "code",
   "execution_count": 188,
   "metadata": {},
   "outputs": [],
   "source": [
    "pred = adaboost.predict(X)"
   ]
  },
  {
   "cell_type": "code",
   "execution_count": 189,
   "metadata": {},
   "outputs": [
    {
     "name": "stdout",
     "output_type": "stream",
     "text": [
      "              precision    recall  f1-score   support\n",
      "\n",
      "           0       0.83      0.79      0.81       163\n",
      "           1       0.76      0.81      0.79       139\n",
      "\n",
      "    accuracy                           0.80       302\n",
      "   macro avg       0.80      0.80      0.80       302\n",
      "weighted avg       0.80      0.80      0.80       302\n",
      "\n"
     ]
    }
   ],
   "source": [
    "from sklearn.metrics import classification_report\n",
    "print(classification_report(y, pred))"
   ]
  },
  {
   "cell_type": "code",
   "execution_count": 92,
   "metadata": {},
   "outputs": [
    {
     "data": {
      "text/plain": [
       "AdaBoostClassifier()"
      ]
     },
     "execution_count": 92,
     "metadata": {},
     "output_type": "execute_result"
    }
   ],
   "source": [
    "from sklearn.ensemble import AdaBoostClassifier\n",
    "ada = AdaBoostClassifier()\n",
    "ada.fit(X, y)"
   ]
  },
  {
   "cell_type": "code",
   "execution_count": 93,
   "metadata": {},
   "outputs": [],
   "source": [
    "pred = ada.predict(X)"
   ]
  },
  {
   "cell_type": "code",
   "execution_count": 94,
   "metadata": {},
   "outputs": [
    {
     "name": "stdout",
     "output_type": "stream",
     "text": [
      "              precision    recall  f1-score   support\n",
      "\n",
      "           0       0.92      0.92      0.92       163\n",
      "           1       0.91      0.91      0.91       139\n",
      "\n",
      "    accuracy                           0.91       302\n",
      "   macro avg       0.91      0.91      0.91       302\n",
      "weighted avg       0.91      0.91      0.91       302\n",
      "\n"
     ]
    }
   ],
   "source": [
    "print(classification_report(y, pred))"
   ]
  },
  {
   "cell_type": "code",
   "execution_count": 355,
   "metadata": {},
   "outputs": [
    {
     "name": "stdout",
     "output_type": "stream",
     "text": [
      "0.7877049180327869 50\n",
      "0.7780327868852459 60\n",
      "0.801256830601093 70\n",
      "0.7845355191256831 80\n",
      "0.7745901639344261 90\n"
     ]
    }
   ],
   "source": [
    "for i in range(50, 100, 10):\n",
    "    adaboost = AdaBoostClassifier(hdisease.columns, is_categorical, n_estimators=i)\n",
    "    test_acc = cross_val_score(adaboost, X, y, scoring='accuracy', cv=5).mean()\n",
    "    print(test_acc, i)"
   ]
  },
  {
   "cell_type": "code",
   "execution_count": null,
   "metadata": {},
   "outputs": [],
   "source": [
    "from sklearn.metrics import classification_report\n",
    "pred = adaboost.predict(X)"
   ]
  },
  {
   "cell_type": "code",
   "execution_count": 350,
   "metadata": {},
   "outputs": [
    {
     "name": "stdout",
     "output_type": "stream",
     "text": [
      "              precision    recall  f1-score   support\n",
      "\n",
      "           0       0.89      0.82      0.85       163\n",
      "           1       0.80      0.88      0.84       139\n",
      "\n",
      "    accuracy                           0.85       302\n",
      "   macro avg       0.85      0.85      0.85       302\n",
      "weighted avg       0.85      0.85      0.85       302\n",
      "\n"
     ]
    }
   ],
   "source": [
    "print(classification_report(y, pred))"
   ]
  },
  {
   "cell_type": "markdown",
   "metadata": {},
   "source": [
    "### Conclusion\n",
    "Decision Trees are very prized by the machine learning community for their interpretability and their handy automatic feature selection.\n",
    "Unfortunately, the decision trees tend to overfit. It is mandatory to limit the max depth parameter to avoid this behavior. Using the ensemble technique is a great way to deal with the tendency of the decision trees to overfit. However, as the model is getting more complex due to aggregation of multiple learners, it is more challenging to interpret a random forest model."
   ]
  }
 ],
 "metadata": {
  "kernelspec": {
   "display_name": "Python 3",
   "language": "python",
   "name": "python3"
  },
  "language_info": {
   "codemirror_mode": {
    "name": "ipython",
    "version": 3
   },
   "file_extension": ".py",
   "mimetype": "text/x-python",
   "name": "python",
   "nbconvert_exporter": "python",
   "pygments_lexer": "ipython3",
   "version": "3.7.7"
  }
 },
 "nbformat": 4,
 "nbformat_minor": 4
}
